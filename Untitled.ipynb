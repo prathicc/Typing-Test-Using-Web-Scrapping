{
 "cells": [
  {
   "cell_type": "code",
   "execution_count": 3,
   "id": "325f5e9a",
   "metadata": {},
   "outputs": [
    {
     "name": "stdout",
     "output_type": "stream",
     "text": [
      ">>awesome\n",
      "[\"I've got an awesome wife.\", \"She'd never heard such awesome words!\", \"Isn't this an awesome view?\", \"There's an awesome taco shack an hour away.\", 'Toby would make an awesome older brother, she realized, unlike her flaky sister.', \"He's so awesome, Jessi!\", \"Isn't he just awesome?\", 'Asian dragons are viewed as awesome creatures filled with power and wisdom.', 'The view downstream and directly below the bridge was awesome.', 'Omigod, that would be awesome!', 'Most of the islands offer a good range of walks, from the easiest to the frankly awesome.', \"The awesome ' Inside Outside ' came next, with Stu's guitar ringing out with pure brilliance.\", 'A bit of a cheesy tagline for what is a pretty cheesy sequel to the awesome \" Jaws \" .', 'Now there are awesome new girlfriends to collect, plus lots of new gear and accessories to share.', 'This game features awesome 3D graphics, over 100 dance clubs.', 'He was past his fastest and his best, but still an awesome sight - back hunched, .. .', 'If neither of these things bother you, just concentrate on finding the most awesome towel you can!', \"That's an awesome pregnancy test, by the way.\", 'Then get ready to get downright groovy with this awesome new show Funky Cops!', 'Go on location with fossil hunters or uncover the awesome power of the T-Rex.', 'When the war finally ignites in its massive proportions, the action is awesome.', 'L.S.D. - causes pleasure and a magnified appreciation of the awesome immensity of reality.', 'We are caught up in an awesome struggle over the character of human personhood.', 'Leaving the political polemic aside, Dike & The Blazers are a truly awesome group.', 'A 230ft underwater tunnel lets visitors get up close to awesome sea creatures.', 'The river winds its way through giant red sandstone cliffs toward the awesome King George Falls.', 'Watching her carrying a massive metal bowl of crushed shea nuts on her head was an awesome sight.', 'Black tourmaline is awesome for grounding you and bringing you back into your body.', \"You'll also find awesome tips and a section on wedding trends.\", 'You can also look at some awesome ideas at Outdoor Living Concepts.', 'Converse looks awesome when paired with skinny pants.', 'They have an awesome selection sure to tempt even the pickiest coffee lover.', 'The Wii is an awesome party console and the five games of Wii Sports supports that.', 'He was so awesome and I totally liked him, and he told me that he also liked me.', \"Creating an awesome room gets you proactive on things you'll likely need to do when you grow up.\", 'You might find a large selection of awesome dresses one week and nothing the next.', 'Awesome Beanbags carries more than just beanbags.', 'There you can see the full line of shirts as well as toys, note cards and other awesome products.', 'Read on gamer, you will be enjoying the awesome power of the PlayStation 3 in no time!', \"Your combos and attacks will benefit from the awesome power of Poseidon's gift.\", 'Here are some cheat codes that will give you some extra goodies and awesome god-like power.', 'Foggy London is treacherous and the speedy streets of San Francisco look awesome.', 'The landscape and character detail is awesome.', 'Corpus Christi RV Resorts are actually four awesome resorts with 450 camp sites.', 'Triple O Outfitters-What an awesome place to go on a guided hunt!', 'Home School Inc. has an awesome web-based planner.', \"Mom's the Word has carried an awesome selection of funky, trendy maternity wear since 1991.\", 'Nothing beats being remembered as the woman who wears those awesome red glasses.', 'David Landis is both a popular culture expert and the founder of Awesome Avenue.', 'To find those retro board games and other retro items, please visit Awesome Avenue.', \"Rudolph's Awesome Yule-Rule - Rudolph explains to his son why Christmas comes only once a year.\", 'Randall Designs is the company behind the awesome costumes on \"Dancing with the Stars.\"', 'The Awesome Animal Hobo appears to be more of a weekend bag than a shoulder-swinging hobo.', 'Water, like any other element, is filled with an awesome power.', 'Enjoy the fun and throw an awesome slumber party!', 'Use your grill to make this awesome Crumbed Snapper dish.', 'Awesome Film features movies scripts for online viewing.', 'The Wild Cowboy has a great name and and some awesome cowboy boots for girls.', 'Awesome astrology sign tattoos usually begin with zodiac symbols tattoo flash.', 'This Cartier Tank Females watch is simply awesome.', 'An ideal combination of style and function makes this timepiece awesome.', 'Case is 20.5mm wide; 7.5mm thick makes this timepiece genuinely awesome.', 'Ben uses these awesome powers to help others and to be a positive force in the world.', 'What performs high-tech computer functions while keeping awesome time?', 'Unless, of course, you speak with the \"You know,\" \"Awesome,\" or \"Like\" slang of today.', 'Low Carb Café is another awesome site for finding free low carb recipes.', 'Finally, there are myriad chest machines out there, ranging from awful to awesome.', 'The fabric is a soft cotton blend and the stretch is an awesome four-way knit-in to control bounce.', 'Not to mention all the other awesome fantasy retro lingerie.', 'Besides, costumes like that let you carry some awesome (if fake) weaponry too, making it a win-win.', 'It would be awesome to host my own show like that.', 'His attitude to problem solving, like the lightsabre through the door ... That was awesome.', 'When looking for the right name, a fantasy name generator can be an awesome tool.', \"Either way, New Zealand's awesome beauty will offer breathtaking visuals you'll never forget.\", 'For Gandalf fans, this poster presents an awesome image.', 'On a large spring tide the flows between the islands can be truly awesome.', 'Beside the totally awesome music of the 80s, there were also really cool.. .', 'Must have been a pretty awesome moment in your careers... .', 'All the people we work with are incredibly awesome.', \"Simon Parke looked awesome for the first 23 minutes of tonight's match with Nick Matthew.\", \"And I mean awesome with a capital ' A ' .\", 'The ringing skills demonstrated were less than awesome but perfectly creditable.', 'In the parlance of the day, people in mental distress - like everyone else - are awesome.', 'A shining example for all of humanity she is super awesome.', 'I have had a quick look at it and it reminded me of his awesome presentation.', 'He is flying 11 square meters of ripstop nylon designed to harness the awesome power of the wind.', 'Rachael went on to place 4th at the World which is awesome for a debut outing.', 'For seven days and seven nights Man will watch this awesome sight.', 'Check out Diapers.com for some awesome savings when you buy in larger quantities.', 'Start creating awesome scrapbooking embellishments!', 'These dogs have a natural talent for the sport of agility, so they make awesome playmates for kids.', 'Camouflage is awesome to wear and even cooler to see in action.', 'Find out what \"Goth\" is all about, as well as some ideas for awesome tats.', \"The potential of Howie's gift was awesome.\"]\n",
      "Besides, costumes like that let you carry some awesome (if fake) weaponry too, making it a win-win.\n"
     ]
    }
   ],
   "source": [
    "from bs4 import BeautifulSoup\n",
    "import time\n",
    "import random\n",
    "import requests\n",
    "word = input(\">>\")\n",
    "url = f\"https://sentence.yourdictionary.com/{word}\"\n",
    "website_html = requests.get(url).text\n",
    "soup = BeautifulSoup(website_html, 'html.parser')\n",
    "sentences = soup.find_all('p', class_ = \"sentence-item__text\")\n",
    "sentence_list = list()\n",
    "\n",
    "for i in sentences:\n",
    "    if len(i.text)<100:\n",
    "        sentence_list.append(i.text)\n",
    "print(sentence_list)\n",
    "print(random.choice(sentence_list))"
   ]
  },
  {
   "cell_type": "code",
   "execution_count": null,
   "id": "8920fb5a",
   "metadata": {},
   "outputs": [
    {
     "name": "stdout",
     "output_type": "stream",
     "text": [
      "no it is not that\n",
      "no it is not that\n",
      "100.0\n",
      "WPM:  48.14821319824342\n",
      "hello there this is a sentence which contains many lines\n",
      "hello there this is a sentence which contains many lines\n",
      "100.0\n",
      "WPM:  35.167742332537294\n",
      "hello there this is a sentence which contains many lines\n"
     ]
    }
   ],
   "source": [
    "import curses\n",
    "import random\n",
    "import time\n",
    "from curses import wrapper\n",
    "\n",
    "sentences = ['hello there this is a sentence which contains many lines', 'no it is not that', 'yes please']\n",
    "\n",
    "\n",
    "\n",
    "\n",
    "def main(sentences):\n",
    "    run = True\n",
    "    while run:\n",
    "        points = 0\n",
    "        current_question = random.choice(sentences)\n",
    "        word_list = current_question.split()\n",
    "        words = len(word_list)\n",
    "        total_points = len(current_question)\n",
    "        print(current_question)\n",
    "        init_time = time.time()\n",
    "        typed_text = input()\n",
    "        final_time = time.time()\n",
    "        for i in range(len(typed_text)):\n",
    "            if typed_text[i] == current_question[i]:\n",
    "                points+=1\n",
    "        print((points/total_points)*100)\n",
    "        print(\"WPM: \", words/((final_time-init_time)/60))\n",
    "\n",
    "\n",
    "main(sentences)"
   ]
  },
  {
   "cell_type": "code",
   "execution_count": null,
   "id": "f7f5397e",
   "metadata": {},
   "outputs": [
    {
     "name": "stdout",
     "output_type": "stream",
     "text": [
      "no it is not that\n",
      "no ut is not that\n",
      "80.0\n",
      "no it is not that\n"
     ]
    }
   ],
   "source": [
    "import curses\n",
    "import random\n",
    "import time\n",
    "from curses import wrapper\n",
    "\n",
    "sentences = ['hello there this is a sentence which contains many lines', 'no it is not that', 'yes please']\n",
    "\n",
    "\n",
    "\n",
    "\n",
    "def main(sentences):\n",
    "    run = True\n",
    "    while run:\n",
    "        points = 0\n",
    "        current_question = random.choice(sentences)\n",
    "        word_list = current_question.split()\n",
    "        words = len(word_list)\n",
    "        total_points = len(current_question)\n",
    "        print(current_question)\n",
    "        init_time = time.time()\n",
    "        typed_text = input()\n",
    "        final_time = time.time()\n",
    "        accuracy = len(set(typed_text.split()) & set(current_question.split()))\n",
    "        accuracy = accuracy / len(set(current_question.split()))*100\n",
    "        print(accuracy)\n",
    "main(sentences)"
   ]
  }
 ],
 "metadata": {
  "kernelspec": {
   "display_name": "Python 3 (ipykernel)",
   "language": "python",
   "name": "python3"
  },
  "language_info": {
   "codemirror_mode": {
    "name": "ipython",
    "version": 3
   },
   "file_extension": ".py",
   "mimetype": "text/x-python",
   "name": "python",
   "nbconvert_exporter": "python",
   "pygments_lexer": "ipython3",
   "version": "3.10.5"
  }
 },
 "nbformat": 4,
 "nbformat_minor": 5
}
